{
 "cells": [
  {
   "cell_type": "code",
   "execution_count": 1,
   "id": "01dcb9e0",
   "metadata": {},
   "outputs": [],
   "source": [
    "# Libraries\n",
    "from nltk.util import pr\n",
    "import pandas as pd #Untuk mengimport data/file (csv, dll) dari sumber luar\n",
    "import numpy as np #mengelola komputasi matrix\n",
    "import re #reguler expression\n",
    "import string\n",
    "import nltk\n",
    "import pickle \n",
    "from nltk.corpus import stopwords\n",
    "from nltk import word_tokenize\n",
    "import re"
   ]
  },
  {
   "cell_type": "code",
   "execution_count": 2,
   "id": "8d7c4585",
   "metadata": {},
   "outputs": [
    {
     "data": {
      "text/html": [
       "<div>\n",
       "<style scoped>\n",
       "    .dataframe tbody tr th:only-of-type {\n",
       "        vertical-align: middle;\n",
       "    }\n",
       "\n",
       "    .dataframe tbody tr th {\n",
       "        vertical-align: top;\n",
       "    }\n",
       "\n",
       "    .dataframe thead th {\n",
       "        text-align: right;\n",
       "    }\n",
       "</style>\n",
       "<table border=\"1\" class=\"dataframe\">\n",
       "  <thead>\n",
       "    <tr style=\"text-align: right;\">\n",
       "      <th></th>\n",
       "      <th>id</th>\n",
       "      <th>username</th>\n",
       "      <th>text</th>\n",
       "      <th>sentimen</th>\n",
       "      <th>label</th>\n",
       "    </tr>\n",
       "  </thead>\n",
       "  <tbody>\n",
       "    <tr>\n",
       "      <th>0</th>\n",
       "      <td>1</td>\n",
       "      <td>akhmad Zubaeri</td>\n",
       "      <td>repot orang miskin kerjanya serabutan</td>\n",
       "      <td>negatif</td>\n",
       "      <td>-1</td>\n",
       "    </tr>\n",
       "    <tr>\n",
       "      <th>1</th>\n",
       "      <td>2</td>\n",
       "      <td>Amin Udin</td>\n",
       "      <td>setiap desa kasih relawan alat tes pak semua t...</td>\n",
       "      <td>positif</td>\n",
       "      <td>1</td>\n",
       "    </tr>\n",
       "    <tr>\n",
       "      <th>2</th>\n",
       "      <td>3</td>\n",
       "      <td>Amin Udin</td>\n",
       "      <td>kesadaran masyarakat rendah salahkan malah pem...</td>\n",
       "      <td>negatif</td>\n",
       "      <td>-1</td>\n",
       "    </tr>\n",
       "    <tr>\n",
       "      <th>3</th>\n",
       "      <td>4</td>\n",
       "      <td>Amin Udin</td>\n",
       "      <td>semangat pak jokowi</td>\n",
       "      <td>netral</td>\n",
       "      <td>0</td>\n",
       "    </tr>\n",
       "    <tr>\n",
       "      <th>4</th>\n",
       "      <td>5</td>\n",
       "      <td>Amin Udin</td>\n",
       "      <td>ingin hidup normal</td>\n",
       "      <td>netral</td>\n",
       "      <td>0</td>\n",
       "    </tr>\n",
       "  </tbody>\n",
       "</table>\n",
       "</div>"
      ],
      "text/plain": [
       "   id        username                                               text  \\\n",
       "0   1  akhmad Zubaeri              repot orang miskin kerjanya serabutan   \n",
       "1   2       Amin Udin  setiap desa kasih relawan alat tes pak semua t...   \n",
       "2   3       Amin Udin  kesadaran masyarakat rendah salahkan malah pem...   \n",
       "3   4       Amin Udin                                semangat pak jokowi   \n",
       "4   5       Amin Udin                                 ingin hidup normal   \n",
       "\n",
       "  sentimen  label  \n",
       "0  negatif     -1  \n",
       "1  positif      1  \n",
       "2  negatif     -1  \n",
       "3   netral      0  \n",
       "4   netral      0  "
      ]
     },
     "execution_count": 2,
     "metadata": {},
     "output_type": "execute_result"
    }
   ],
   "source": [
    "data = pd.read_csv('C:/Users/sinag/SKRIPSIKU/data_bersih.csv', sep = ',', encoding ='utf-8')\n",
    "data.head()"
   ]
  },
  {
   "cell_type": "code",
   "execution_count": 3,
   "id": "94170e88",
   "metadata": {},
   "outputs": [
    {
     "name": "stdout",
     "output_type": "stream",
     "text": [
      "jumlah data latih : 2139\n",
      "jumlah data uji  : 535\n",
      "\n",
      "\n",
      "Jumlah data latih dengan sentimen positif: 472\n",
      "Jumlah data latih dengan sentimen negatif: 1244\n",
      "Jumlah data latih dengan sentimen netral: 423\n",
      "\n",
      "\n",
      "Jumlah data uji dengan sentimen positif: 132\n",
      "Jumlah data uji dengan sentimen negatif: 304\n",
      "Jumlah data uji dengan sentimen netral: 99\n"
     ]
    }
   ],
   "source": [
    "#cara split data dan save data train dan test ke csv:\n",
    "\n",
    "import collections, numpy\n",
    "from sklearn.model_selection import train_test_split\n",
    "X_train, X_test, y_train, y_test = train_test_split(data['text'], data['sentimen'], test_size=0.2, random_state=5)\n",
    "print('jumlah data latih :', len(X_train))\n",
    "print('jumlah data uji  :', len(X_test))\n",
    "\n",
    "pos = (y_test == 'positif').sum()\n",
    "neg = (y_test == 'negatif').sum()\n",
    "net = (y_test == 'netral').sum()\n",
    "total_uji = pos + neg + net\n",
    "print(\"\\n\")\n",
    "postrain = (y_train == 'positif').sum()\n",
    "negtrain = (y_train == 'negatif').sum()\n",
    "nettrain = (y_train == 'netral').sum()\n",
    "total_latih = postrain + negtrain + nettrain\n",
    "print(\"Jumlah data latih dengan sentimen positif:\", postrain)\n",
    "print(\"Jumlah data latih dengan sentimen negatif:\",negtrain)\n",
    "print(\"Jumlah data latih dengan sentimen netral:\",nettrain)\n",
    "print(\"\\n\")\n",
    "print(\"Jumlah data uji dengan sentimen positif:\", pos)\n",
    "print(\"Jumlah data uji dengan sentimen negatif:\",neg)\n",
    "print(\"Jumlah data uji dengan sentimen netral:\",net)"
   ]
  },
  {
   "cell_type": "code",
   "execution_count": 12,
   "id": "c13a8c93",
   "metadata": {},
   "outputs": [],
   "source": [
    "#save the data to csv\n",
    "X_test.to_csv('C:/Users/sinag/SKRIPSIKU/A_pohon.csv',index=False)\n",
    "y_test.to_csv('C:/Users/sinag/SKRIPSIKU/B_pohon.csv',index=False)"
   ]
  },
  {
   "cell_type": "code",
   "execution_count": 18,
   "id": "4e3ccec5",
   "metadata": {},
   "outputs": [
    {
     "data": {
      "text/plain": [
       "331    positif\n",
       "467     netral\n",
       "941    positif\n",
       "60      netral\n",
       "71     positif\n",
       "Name: sentimen, dtype: object"
      ]
     },
     "execution_count": 18,
     "metadata": {},
     "output_type": "execute_result"
    }
   ],
   "source": [
    "y_test.head()"
   ]
  }
 ],
 "metadata": {
  "kernelspec": {
   "display_name": "Python 3 (ipykernel)",
   "language": "python",
   "name": "python3"
  },
  "language_info": {
   "codemirror_mode": {
    "name": "ipython",
    "version": 3
   },
   "file_extension": ".py",
   "mimetype": "text/x-python",
   "name": "python",
   "nbconvert_exporter": "python",
   "pygments_lexer": "ipython3",
   "version": "3.9.7"
  }
 },
 "nbformat": 4,
 "nbformat_minor": 5
}
