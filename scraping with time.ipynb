{
 "cells": [
  {
   "cell_type": "code",
   "execution_count": 83,
   "id": "10a51ebd",
   "metadata": {},
   "outputs": [
    {
     "name": "stderr",
     "output_type": "stream",
     "text": [
      "C:\\Users\\sinag\\AppData\\Local\\Temp/ipykernel_5404/1084945340.py:6: DeprecationWarning: executable_path has been deprecated, please pass in a Service object\n",
      "  driver = webdriver.Chrome(r'C:\\Program Files\\Google\\Chrome\\Application\\chromedriver.exe')\n"
     ]
    }
   ],
   "source": [
    "from selenium import webdriver #library untuk menghubungkan sistem dengan web\n",
    "from bs4 import BeautifulSoup as bs\n",
    "import time \n",
    "import pandas as pd #\n",
    "#(chromedriver untuk menghubungkan ke google chrome)\n",
    "driver = webdriver.Chrome(r'C:\\Program Files\\Google\\Chrome\\Application\\chromedriver.exe') \n",
    "driver.get('https://www.youtube.com/watch?v=8Bn3ah9dY9A') #link berita\n",
    "#untuk scroll/menggulir halaman web \n",
    "driver.execute_script('window.scrollTo(0, document.body.scrollHeight);')\n",
    "time.sleep(35) #lama waktu proses scroll komentar\n",
    "\n",
    "comments_youtube=[]\n",
    "comment_div = driver.find_element(\"xpath\", '//*[@id=\"contents\"]') #xpath untuk memilih bagian tertentu pada web/XML\n",
    "comments = comment_div.find_elements(\"xpath\", '//*[@id=\"content-text\"]')\n",
    "for comment in comments:\n",
    "    comments_youtube.append(comment.text)"
   ]
  },
  {
   "cell_type": "code",
   "execution_count": 84,
   "id": "492bc4ae",
   "metadata": {},
   "outputs": [
    {
     "data": {
      "text/html": [
       "<div>\n",
       "<style scoped>\n",
       "    .dataframe tbody tr th:only-of-type {\n",
       "        vertical-align: middle;\n",
       "    }\n",
       "\n",
       "    .dataframe tbody tr th {\n",
       "        vertical-align: top;\n",
       "    }\n",
       "\n",
       "    .dataframe thead th {\n",
       "        text-align: right;\n",
       "    }\n",
       "</style>\n",
       "<table border=\"1\" class=\"dataframe\">\n",
       "  <thead>\n",
       "    <tr style=\"text-align: right;\">\n",
       "      <th></th>\n",
       "      <th>text</th>\n",
       "    </tr>\n",
       "  </thead>\n",
       "  <tbody>\n",
       "    <tr>\n",
       "      <th>0</th>\n",
       "      <td>Yg di butuh kan warga SAAT INI adl sehat,selam...</td>\n",
       "    </tr>\n",
       "    <tr>\n",
       "      <th>1</th>\n",
       "      <td>diakui atau tidak, mungkin program stimulusnya...</td>\n",
       "    </tr>\n",
       "    <tr>\n",
       "      <th>2</th>\n",
       "      <td>Alhamdulillah kpr non subsidi saya di tunda</td>\n",
       "    </tr>\n",
       "    <tr>\n",
       "      <th>3</th>\n",
       "      <td>Percuma pak klw ujung2nya di korupsi sama peja...</td>\n",
       "    </tr>\n",
       "    <tr>\n",
       "      <th>4</th>\n",
       "      <td>Antara bener sama pencitraan...\\nIya ntah lah....</td>\n",
       "    </tr>\n",
       "  </tbody>\n",
       "</table>\n",
       "</div>"
      ],
      "text/plain": [
       "                                                text\n",
       "0  Yg di butuh kan warga SAAT INI adl sehat,selam...\n",
       "1  diakui atau tidak, mungkin program stimulusnya...\n",
       "2       Alhamdulillah kpr non subsidi saya di tunda \n",
       "3  Percuma pak klw ujung2nya di korupsi sama peja...\n",
       "4  Antara bener sama pencitraan...\\nIya ntah lah...."
      ]
     },
     "execution_count": 84,
     "metadata": {},
     "output_type": "execute_result"
    }
   ],
   "source": [
    "comments_dict = {'text':comments_youtube}\n",
    "data = pd.DataFrame(comments_dict)\n",
    "data.to_csv(r'comments.csv')\n",
    "data.head()"
   ]
  },
  {
   "cell_type": "code",
   "execution_count": 85,
   "id": "905505a2",
   "metadata": {},
   "outputs": [
    {
     "data": {
      "text/plain": [
       "(75, 1)"
      ]
     },
     "execution_count": 85,
     "metadata": {},
     "output_type": "execute_result"
    }
   ],
   "source": [
    "data.shape"
   ]
  },
  {
   "cell_type": "code",
   "execution_count": null,
   "id": "35c0d4a3",
   "metadata": {},
   "outputs": [],
   "source": []
  }
 ],
 "metadata": {
  "kernelspec": {
   "display_name": "Python 3 (ipykernel)",
   "language": "python",
   "name": "python3"
  },
  "language_info": {
   "codemirror_mode": {
    "name": "ipython",
    "version": 3
   },
   "file_extension": ".py",
   "mimetype": "text/x-python",
   "name": "python",
   "nbconvert_exporter": "python",
   "pygments_lexer": "ipython3",
   "version": "3.9.7"
  }
 },
 "nbformat": 4,
 "nbformat_minor": 5
}
